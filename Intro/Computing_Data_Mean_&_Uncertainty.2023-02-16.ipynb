{
 "cells": [
  {
   "cell_type": "markdown",
   "metadata": {},
   "source": [
    "## Calculating the Mean and Uncertainty\n",
    "## In this exercise, you will read the consolidated data you saved in the previous assignment. In this example, you have a set of y measurements at each x value. In preparation for weighted non-linear least squares fitting, you will calculate the mean and standard deviation (stdev) of the y measurments at each x value. The stdev is the best estimate of the uncertainty in the measurement. However we also know that the uncertainty cannot be less than 1/2 of the least significant digit. If your measurement was bouncing around as you read it, that estimate should be larger. You will write the results to a csv file for use in the next assignment.\n",
    "\n",
    "<u>Notes on estimating uncertainties for non-linear least squares fitting.</u>\n",
    "\n",
    "Broadly, there are two types of measurements: counting experiments and non-counting experiments.\n",
    "\n",
    "**Counting experiments,** such as radiactive decay and photon counting, the statistical uncertianty follows the Poisson distribution. The stdev (uncertainty) in the count is the sqrt(count). The stdev DOES NOT depend on how it is measured. If you measure 100 counts. The uncertainy is always +/-10 counts.\n",
    "\n",
    "**Non-counting experiments,** measurements of time, voltage, intensity, distance, etc., the statistical uncertainty follows a Gaussian distrubution. The stdev (uncertainty) depends a great deal on the measurement. The only way to determine the uncertianty is to make enough measurements to get an estimate of the width of the Gaussian distribution (the stdev). \n",
    "\n",
    "**Diambiguation.** The term *counting experiment* has a specific meaning in physics. Measurements where you counts objects, e.g. how many pennies you have, or a distance (e.g. by counting mile posts or ticks on a ruler), are not examples of counting experiments.\n",
    "\n",
    "*In this exercise you have data modeling a non-counting experiment.*\n",
    "\n",
    "For measurements that are not counting experiments.\n",
    "\n",
    "The stdev is a good estimate of the uncertainty, but you can only estimate the uncertainty of a data point using stdev if you have multiple measurements at that point! \n",
    "\n",
    "*In this excercise you have multiple measurements of y at the same x value.*\n",
    "\n",
    "<u>More discussion of this distinction for non-counting experiments and the bigger picture.</u>\n",
    "\n",
    "> **Example.** You are measuring y vs x, (you select x and measure y). You vary x from 0 to 10 in increments of 0.5 and repeat that set 3 times. You will have a total of 21 different x values with 3 measurements of y at each x value. You can then estimate the uncertainty in the y value at each x value as the stdev of the 3 y measurements.\n",
    "\n",
    "> If however each run has different set of x values, you cannot use the stdev, you will just need to fall back to the uncertainty estimate for each measurement +/- 1/2 of the least significant digit. If that last digit was fluctuating, then you can estimate the amplitude of the fluctuation and take 1/2 of that. You will need to treat all the points the same, that is, you either use stdev or the single point uncertainty, not some hybrid.\n",
    "\n",
    "> **More discussion.** Consider the experiment above where you did 3 sets of 21 points.\n",
    "\n",
    "> If all the x points in each set were the same, you'd calculate the stdev and the mean of the y's at each x value. For the plot, you'd plot 21 points, the mean for the point and the stdev for the error bars. You'd then use those 21 points with uncertainties in the fit. That is, you'd fit the 21 points.\n",
    "\n",
    "> If the x points were not the same in each set, you'd use your best estimate of the uncertainty for each y measurement. For the plot, you'd plot 62 points, the measured values and the estimated uncertainties for the error bars. You'd use those 62 points with uncertainties for the fit.\n",
    "\n",
    "> In both cases the data of all three sets contributes to the fit.\n",
    "\n",
    "In this exercise you will learn how to read a comma delimited csv file into an array varable. Calculate the mean and standard deviation of the y measurement. Here stdev is an estimate of the uncertainty, but it cannot be less than 1/2 of the least significant digit measured. You will filter the uncertainties to make sure they are never less than 1/2 of the least significant digit. You will then save those values as a comma delimited csv file, with data in the format x, y_mean, y_uncertainty. "
   ]
  },
  {
   "cell_type": "markdown",
   "metadata": {},
   "source": [
    "## How to perform this assignment and submit it for credit\n",
    "\n",
    "Begin with the assignment (this file) and the data files provided in the same sciserver directory. \n",
    "\n",
    "The tasks below describe exercises in coding for you to perform in the code cell immediately following the task markdown cell. In some cases a code block is provided to get you started. Code snippets may also be provided. You can copy them into the code cell as a starting point. Generally copy and paste of that code is not enough to get credit for a task. You will need to modify and expand that code. Read through the text and follow what you are asked to do. To get full credit you will need to provide evidenvce that you did the exercise. In some tasks lead you through building up a code block. You do not need to show all the steps, the state of the code after you have done the exercise is sufficient. You need to have the successful pisplay output in addition to the code.\n",
    "\n",
    "Submission. You will use an archive program to create a zip file containing your final Jupyter notebook with the input and ouput files. You will then submit the .zip file to canvas."
   ]
  },
  {
   "cell_type": "markdown",
   "metadata": {},
   "source": [
    "## TASK 1: Read your consolidated data into an array. (1 point)\n",
    "\n",
    "You will read the consolidated data file created in the previous assignment `'consolidated_data.csv'`. In this exercise we will initially display the first 7 lines of the file to verify the file structure. After this exercise, you can simply display the contents of text files in the sciserver file browser. That is the beauty of file types where the data is stored as ASCII text.\n",
    "\n",
    "```\n",
    "import numpy as np\n",
    "\n",
    "fname = 'consolidated_data.csv'\n",
    "\n",
    "file = open(fname,'r')\n",
    "for jj in range(7):\n",
    "    line = file.readline()\n",
    "    print(line)\n",
    "file.close()\n",
    "```\n",
    "\n",
    "\n",
    "We do this to verify the data header is two lines. And that the data is in x, y1, y2, y3, y4, y5, y6 comma delimited format. Take note of the number of decimal places in the y data. We will need that later in this exercise to determine the minimum uncertainty.\n",
    "\n",
    "Now we can read the file data into the `data` array variable.\n",
    "\n",
    "```\n",
    "fname = 'consolidated_data.csv'\n",
    "\n",
    "data = np.loadtxt(fname, skiprows=2, delimiter=',')\n",
    "\n",
    "data_size = np.shape(data)\n",
    "print(data_size)`\\\n",
    "```\n",
    "\n",
    "\n",
    "We have used `np.shape()` to show the size of the data array. It will have *n* rows and 7 columns.\n",
    "\n",
    "Now lets print the first 5 rows of `data` to verify the data was read correctly.\n",
    "\n",
    "```\n",
    "print(data[0:5,:])\n",
    "```\n",
    "\n",
    "Verify that the values in the first 5 rows are identical to those listed from the file (above). *Note: The default formating of the `print()` function does not display trailing zeros. We'd need to use an explict fixed point format specifier to acheive that.* \n"
   ]
  },
  {
   "cell_type": "code",
   "execution_count": 6,
   "metadata": {
    "execution": {
     "iopub.execute_input": "2023-09-08T07:53:33.530111Z",
     "iopub.status.busy": "2023-09-08T07:53:33.529501Z",
     "iopub.status.idle": "2023-09-08T07:53:33.554582Z",
     "shell.execute_reply": "2023-09-08T07:53:33.552101Z",
     "shell.execute_reply.started": "2023-09-08T07:53:33.530061Z"
    },
    "tags": []
   },
   "outputs": [
    {
     "name": "stdout",
     "output_type": "stream",
     "text": [
      "An exponentially decaying sine wave on a constant background\n",
      "\n",
      "x, y1, y2, y3, y4, y5, y6\n",
      "\n",
      " 20.0, 1.42, 1.46, 1.07, 1.46, 1.32, 1.06\n",
      "\n",
      " 20.7, 1.85, 1.98, 2.19, 2.19, 1.79, 2.20\n",
      "\n",
      " 21.5, 2.53, 2.30, 2.45, 2.12, 2.26, 2.51\n",
      "\n",
      " 22.2, 2.38, 2.46, 2.31, 2.00, 2.41, 2.45\n",
      "\n",
      " 23.0, 1.86, 1.90, 1.90, 1.72, 1.85, 1.61\n",
      "\n",
      "(95, 7)\n",
      "[[20.    1.42  1.46  1.07  1.46  1.32  1.06]\n",
      " [20.7   1.85  1.98  2.19  2.19  1.79  2.2 ]\n",
      " [21.5   2.53  2.3   2.45  2.12  2.26  2.51]\n",
      " [22.2   2.38  2.46  2.31  2.    2.41  2.45]\n",
      " [23.    1.86  1.9   1.9   1.72  1.85  1.61]]\n"
     ]
    }
   ],
   "source": [
    "import numpy as np\n",
    "\n",
    "fname = 'consolidated_data.csv'\n",
    "\n",
    "file = open(fname,'r')\n",
    "for jj in range(7):\n",
    "    line = file.readline()\n",
    "    print(line)\n",
    "file.close()\n",
    "\n",
    "\n",
    "\n",
    "fname = 'consolidated_data.csv'\n",
    "\n",
    "data = np.loadtxt(fname, skiprows=2, delimiter=',')\n",
    "\n",
    "data_size = np.shape(data)\n",
    "print(data_size)\n",
    "\n",
    "print(data[0:5,:])\n"
   ]
  },
  {
   "cell_type": "markdown",
   "metadata": {},
   "source": [
    "## Task 2: Learning about array slicing. A shortcut to calculate the mean and stdev of the y values (1.5 points)\n",
    "\n",
    "The dara array has *n* rows and 7 columns. The last 6 columns are the y data. The data on each row is from the x point in the first column. We want to calculate the mean of the 6 y values in each row and the stdev. That will give us *n* combinations of x, y_mean, and _stdev. We will use array slicing and the axis parameter to perfom the np.mean() and np.std().  \n",
    "\n",
    "To explore how this works. You will use a simple test case, a 3x3 array. We will use the np.min() function to illustrate how slicing works.\n",
    "\n",
    "*Note: slicing only works on numpy arrays, so you need to use np.array() to define the array. Arrays created by numpy functions are automatically of this type. You can define a 3x3 array in basc Python, but those arrays do not support slicing. You will instead get an error.*\n",
    "\n",
    "```\n",
    "import numpy as np\n",
    "\n",
    "test = np.array([\n",
    "        [0, 1, 2],\n",
    "        [4, 5, 6],\n",
    "        [7, 8, 9],\n",
    "        ])\n",
    "        \n",
    "print(test)\n",
    "print(np.shape(test))\n",
    "print(np.min(test))\n",
    "```\n",
    "\n",
    "`np.min(test)` returns the minimum value of all elements in the array. Obviously, if we found the mean of all the elements in our data array, the result would be meaningless because that would include the x an y values! We can use slicing to define a section of the array. For example `test[0,:]` defines a slice of `test` , the first row. The following code will display each row in `test`. The `print('-----------')` is used as a visual break in the output cell display.\n",
    "\n",
    "```\n",
    "print('-----------')\n",
    "\n",
    "print(test[0,:])\n",
    "print(test[1,:])\n",
    "print(test[2,:])\n",
    "```\n",
    "\n",
    "The next code displays each column of `test`.\n",
    "\n",
    "```\n",
    "print('----')\n",
    "\n",
    "print(test[:,0])\n",
    "print(test[:,1])\n",
    "print(test[:,2])\n",
    "```\n",
    "\n",
    "We can select more than one column. `test[:,1:3]` selects a slice that is the last 2 columns in `test`.\n",
    "\n",
    "```\n",
    "print('----')\n",
    "\n",
    "print(test[:,1:3])\n",
    "```\n"
   ]
  },
  {
   "cell_type": "code",
   "execution_count": 10,
   "metadata": {
    "execution": {
     "iopub.execute_input": "2023-09-08T08:24:47.455880Z",
     "iopub.status.busy": "2023-09-08T08:24:47.453901Z",
     "iopub.status.idle": "2023-09-08T08:24:47.477547Z",
     "shell.execute_reply": "2023-09-08T08:24:47.474642Z",
     "shell.execute_reply.started": "2023-09-08T08:24:47.455817Z"
    },
    "tags": []
   },
   "outputs": [
    {
     "name": "stdout",
     "output_type": "stream",
     "text": [
      "[[0 1 2]\n",
      " [4 5 6]\n",
      " [7 8 9]]\n",
      "(3, 3)\n",
      "0\n",
      "----------\n",
      "[0 1 2]\n",
      "[4 5 6]\n",
      "[7 8 9]\n",
      "----------\n",
      "[0 4 7]\n",
      "[1 5 8]\n",
      "[2 6 9]\n",
      "----------\n",
      "[[1 2]\n",
      " [5 6]\n",
      " [8 9]]\n"
     ]
    }
   ],
   "source": [
    "import numpy as np\n",
    "\n",
    "test = np.array([\n",
    "        [0, 1, 2],\n",
    "        [4, 5, 6],\n",
    "        [7, 8, 9],\n",
    "        ])\n",
    "        \n",
    "print(test)\n",
    "print(np.shape(test))\n",
    "print(np.min(test))\n",
    "\n",
    "\n",
    "print('-'*10)\n",
    "\n",
    "print(test[0,:])\n",
    "print(test[1,:])\n",
    "print(test[2,:])\n",
    "\n",
    "print('-'*10)\n",
    "\n",
    "print(test[:,0])\n",
    "print(test[:,1])\n",
    "print(test[:,2])\n",
    "\n",
    "print('-'*10)\n",
    "\n",
    "print(test[:,1:3])"
   ]
  },
  {
   "cell_type": "markdown",
   "metadata": {},
   "source": [
    "## Task 3: Learning about the array axis parameter. A shortcut to calculate the mean and stdev of the y values (1 point)\n",
    "\n",
    "The numpy array functions can operate on all elements in the array, or along specific axes, e.g. we can use the np.min() to find the min value in each column, or in each row.\n",
    "\n",
    "This exercise uses the `test` array you created in task 2. In the code below, we first display the elements of the array so you can more easily see the result of np.min(). Using np.min() without any additonal parameters finds the minimum value in all the elements of `test`. Addition of the axis parameter allows us to define directions. \n",
    "- `print(np.min(test, axis=0))`, `axis=0` instructs `np.min()` to find the minimum in each *column*. (0 is the first index, the row index. The minimum is performed across the rows in each column.) \n",
    "- `print(np.min(test, axis=1))`, `axis=1` instructs `np.min()` to find the minimum in each *row*. (1 is the second index, the column index. The minimum is performed across the columns in each row.)\n",
    "\n",
    "```\n",
    "print(test)\n",
    "\n",
    "print('-----------')\n",
    "\n",
    "print(np.min(test))\n",
    "print(np.min(test, axis=0))\n",
    "print(np.min(test, axis=1))\n",
    "```\n",
    "\n",
    "We can combine axis and slicing to find the minimum of the last 2 columns in each row.\n",
    "\n",
    "```\n",
    "print('-----------')\n",
    "print(np.min(test[:,1:3], 1))\n",
    "```\n"
   ]
  },
  {
   "cell_type": "code",
   "execution_count": 11,
   "metadata": {
    "execution": {
     "iopub.execute_input": "2023-09-08T08:44:49.163535Z",
     "iopub.status.busy": "2023-09-08T08:44:49.162420Z",
     "iopub.status.idle": "2023-09-08T08:44:49.220011Z",
     "shell.execute_reply": "2023-09-08T08:44:49.218292Z",
     "shell.execute_reply.started": "2023-09-08T08:44:49.163448Z"
    }
   },
   "outputs": [
    {
     "name": "stdout",
     "output_type": "stream",
     "text": [
      "[[0 1 2]\n",
      " [4 5 6]\n",
      " [7 8 9]]\n",
      "-----------\n",
      "0\n",
      "[0 1 2]\n",
      "[0 4 7]\n",
      "-----------\n",
      "[1 5 8]\n"
     ]
    }
   ],
   "source": [
    "print(test)\n",
    "\n",
    "print('-----------')\n",
    "\n",
    "print(np.min(test))\n",
    "print(np.min(test, axis=0))\n",
    "print(np.min(test, axis=1))\n",
    "\n",
    "print('-----------')\n",
    "print(np.min(test[:,1:3], 1))"
   ]
  },
  {
   "cell_type": "markdown",
   "metadata": {},
   "source": [
    "## Task 4: Use slicing and the array axis parameter to calculate the mean and the stdev of the y measurments in your data array. (2 points)\n",
    "\n",
    "The numpy function np.mean() and np.std() work just like np.min() explored in tasks 2 and 3. Replace the ??? in the following four lines of code to calculate the mean and the stdev of the y measurments in your data array and display the first 5 elements of each array result.\n",
    "\n",
    "```\n",
    "mean_data = np.mean(???)\n",
    "print(mean_data(???))\n",
    "std_data = np.std(???)\n",
    "print(std_data(???))\n",
    "```\n",
    "\n",
    "Use a for loop to iterate the following `print()` statement to display the first 5 values of the mean and stdev values paired. \n",
    "\n",
    "```\n",
    "print(mean_data[ii],std_data[ii])\n",
    "```\n",
    "\n",
    "Note these values will display to ridiculous precision. But that's OK here, we are just checking that the numbers are sensible. \n"
   ]
  },
  {
   "cell_type": "code",
   "execution_count": 49,
   "metadata": {
    "execution": {
     "iopub.execute_input": "2023-09-08T11:21:01.669418Z",
     "iopub.status.busy": "2023-09-08T11:21:01.666502Z",
     "iopub.status.idle": "2023-09-08T11:21:01.687657Z",
     "shell.execute_reply": "2023-09-08T11:21:01.686114Z",
     "shell.execute_reply.started": "2023-09-08T11:21:01.669360Z"
    },
    "tags": []
   },
   "outputs": [
    {
     "name": "stdout",
     "output_type": "stream",
     "text": [
      "0.41705263157894756 0.7289818042407694\n",
      "0.4322105263157897 0.7302503953365566\n",
      "0.43726315789473674 0.7152922731381072\n",
      "0.42126315789473673 0.7202488489627269\n",
      "0.4612631578947365 0.7125687292506014\n",
      "0.4572631578947368 0.7433557512074455\n"
     ]
    }
   ],
   "source": [
    "# Get shape of data to use in for loop\n",
    "data_columns = np.shape(data)\n",
    "# Calculate mean and standard deviation of each column \n",
    "mean_data = np.mean(data, axis=0)\n",
    "std_data  = np.std( data, axis=0)\n",
    "# For loop\n",
    "for ii in range(1,data_columns[1]):\n",
    "    print(mean_data[ii],std_data[ii])"
   ]
  },
  {
   "cell_type": "markdown",
   "metadata": {},
   "source": [
    "## Task 5: Filter the uncertainties so that they are never less that the uncertainty of a single measurement. (2.5 points)\n",
    "\n",
    "Recall that the standard deviation an estimate of the uncertainty of the measurement. However sometimes a few points may gave the same value even with multiple measurments. That could happen if the measurment has a lower resolution than would be required to observe the uncertainy from multiple measurements. Other systematic biases could also be inolved. Regardless of the cause, the result of having all the measurements at an x point be identical is a stdev = 0. That does not mean that the uncertainty is zero. It just means that the stdev is not a good estimator of the uncertainty in that case. In our measurements, we also have a second estimate of the uncertianty from the resolution (number of decimal places) or from the observed fluction of the values at the time it was measured. We choose as the minimum uncertainty as 1/2 of the least dignigficant digit or 1/2 of the observed fluctuation.\n",
    "\n",
    "You will use the *if-then-else* conditional statement inside a for loop to test each value of the stdev and replace it with the minumum uncertainty if it is lower.\n",
    "\n",
    "First we define the minimum uncertainy. In this exercise that is 1/2 of the last decimal place. We have used the fix point format specifier to write the files to preserve that information. In this example, the data had 2 decimal places, thus the minimum uncertainty is 0.005. You will need to adjust that value to match you data.\n",
    "\n",
    "In the next code block, we first copy std_data into uncert_data and then display the minimum uncertainty based on the stdev. We have embellished the display string to document what is being displayed. That is good practice, otherwise  \n",
    "it becomes hard to tell one number from another! We also define the minimum uncertainty. \n",
    "\n",
    "Adjust the format specifiers as needed. In this example I added a guard digit (see discussion in task 6).\n",
    "\n",
    "```\n",
    "uncert_data = std_data\n",
    "print('initial minimum uncertainty = {:6.3f}'.format(np.min(uncert_data)))\n",
    "min_uncertainty = 0.005\n",
    "```\n",
    "\n",
    "Next we will filter out the values in `uncert_data` that are less than `min_uncertainty` by replacing them with `min_uncertainty`.\n",
    "\n",
    "We use the *if-then-else* statement, which does not actually contain *then*. The example is below. Let's parse the statement. The code between the *if* and the *:* is a conditional statement. The output of a conditional statement is a boolean (true or false). The operators for numerical comparison are:\n",
    "- == equal *(comparision requires a double equal sign to distingush from assignment)*\n",
    "- != not equal\n",
    "- \\> greater than\n",
    "- \\>= greater than or equal to\n",
    "- < less than\n",
    "- <= less than or equal to\n",
    "\n",
    "Boolean operators can be used as well and to combine conditional expressions to create more complex conditions.\n",
    "\n",
    "If the conditional statement is true, the *indented* block of code immediatetly following is executed. You will need to use a for loop to interate over each element in `uncert_data`. Use what you learned about for loops in the previous exercise to construct the needed code. *Hint: Indenting is important to define the hierachy of the for loop and the nested if statement.\n",
    "\n",
    "```\n",
    "if uncert_data[ii] < min_uncertainty:\n",
    "    uncert_data[ii] = min_uncertainty\n",
    "```\n",
    "\n",
    "Once you have the code running, it is hard to tell if it is doing anything. You could compare `uncert_data` and `std_data`, but that is not very rewarding. Here is the easy way. Each time the if statement executes, have it display a message with the value it found in `uncert_data` and what it is doing.\n",
    "\n",
    "```\n",
    "print('replacing {:6.3f} with {:6.3f}'.format(uncert_data[ii],min_uncertainty))\n",
    "```\n",
    "\n",
    "Obviously you will need to place this print statement BEFORE the `uncert_data[ii] = min_uncertainty` statement.\n",
    "\n",
    "You can add one more helpful embellishment, a *counter* to report how many replacements were made. Define a variable `nn` and initialize it to zero before the for loop starts (`nn = 0`). Then increment `nn` each time the if statement executes (`nn = nn + 1`).\n",
    "\n",
    "Now we can report on the results after the loop is complete. Use an *if* statement with an *else*. The first block executes if the condition is true. The block after the *else* executes if that condition is false. Including the *else* gives us feedback even if filtering was not needed. *Note that a colon is also required after else!* The final statement recalculates and displays the minimum uncertainty in the array. That looks directly at the data we needed to filter. If that number is not the >= `min_uncertainty`, you have a problem. Contrast that to the value displayed initially.\n",
    "\n",
    "```\n",
    "if nn > 0:\n",
    "    print('Replaced {:d} uncertanties less than the minumum allowable.'.format(nn))\n",
    "else:\n",
    "    print('No replacements were needed.')\n",
    "\n",
    "print('final minimum uncertainty = {:6.3f}'.format(np.min(uncert_data)))\n",
    "```"
   ]
  },
  {
   "cell_type": "code",
   "execution_count": 67,
   "metadata": {
    "execution": {
     "iopub.execute_input": "2023-09-08T11:36:20.131791Z",
     "iopub.status.busy": "2023-09-08T11:36:20.131186Z",
     "iopub.status.idle": "2023-09-08T11:36:20.151430Z",
     "shell.execute_reply": "2023-09-08T11:36:20.149171Z",
     "shell.execute_reply.started": "2023-09-08T11:36:20.131681Z"
    },
    "tags": []
   },
   "outputs": [
    {
     "name": "stdout",
     "output_type": "stream",
     "text": [
      "initial minimum uncertainty =  0.713\n",
      "final minimum uncertainty =  0.713\n",
      "replacing  0.743 with  0.005\n",
      "No replacements were needed.\n"
     ]
    }
   ],
   "source": [
    "uncert_data = std_data\n",
    "print('initial minimum uncertainty = {:6.3f}'.format(np.min(uncert_data)))\n",
    "min_uncertainty = 0.005\n",
    "\n",
    "\n",
    "nn=0\n",
    "\n",
    "if uncert_data[ii] < min_uncertainty:\n",
    "    uncert_data[ii] = min_uncertainty\n",
    "    nn = nn+1\n",
    "    \n",
    "\n",
    "print('final minimum uncertainty = {:6.3f}'.format(np.min(uncert_data)))\n",
    "print('replacing {:6.3f} with {:6.3f}'.format(uncert_data[ii],min_uncertainty))\n",
    "if nn>0:\n",
    "        print('Replaced {:d} uncertanties less than the minumum allowable.'.format(nn))\n",
    "else:\n",
    "    print('No replacements were needed.')\n"
   ]
  },
  {
   "cell_type": "markdown",
   "metadata": {},
   "source": [
    "## Task 6: Write the data to a comma delimited csv file. (2 points)\n",
    "\n",
    "The final task is writing the data we have prepared to a comma delimited csv file.\n",
    "\n",
    "We are almost ready to write the file. We need a header describing the file. We can copy the first line from our initial file, `'consolidated_data.csv'`. Adapt the code block you used in the previous exercise to do this.\n",
    "We also need column labels. Note we need to add the end of line delimiter, the carriage-return and line-feed characters. We don't need to explicitly add them to title because there are already there, as we discovered in the previous exercise.\n",
    "\n",
    "```\n",
    "column_labels = 'x, y_mean, y_uncertainty\\r\\n'\n",
    "```\n",
    "\n",
    "Adapt the code block for the previous exercise to write a comma delimited csv file named `'data_mean_uncert.csv'`. Adjust the format specifiers to add a guard digit, one decimal point beyond what was in the original y data for both the `mean_data` and the `uncert_data`. The function of a guard digit is to reduce the round off error. In principle, the precision of the mean is increased over a single measurement, but the uncertainty is the authority determining how many decimal places are significant. Carrying the values with an extra digit does no harm because we are not reporting these values as our final result. These are intermediate results. \n",
    "\n",
    "Once you have written your data file, open the file from the sciserver file manager. It should look like you expect. If so, this exercise is complete!\n"
   ]
  },
  {
   "cell_type": "code",
   "execution_count": 79,
   "metadata": {
    "execution": {
     "iopub.execute_input": "2023-09-08T11:46:36.339094Z",
     "iopub.status.busy": "2023-09-08T11:46:36.338517Z",
     "iopub.status.idle": "2023-09-08T11:46:36.454536Z",
     "shell.execute_reply": "2023-09-08T11:46:36.453013Z",
     "shell.execute_reply.started": "2023-09-08T11:46:36.339046Z"
    },
    "tags": []
   },
   "outputs": [
    {
     "name": "stdout",
     "output_type": "stream",
     "text": [
      "An exponentially decaying sine wave on a constant background\n",
      "\n"
     ]
    }
   ],
   "source": [
    "# Get Header From Previous File\n",
    "file = open('consolidated_data.csv','r')\n",
    "title = file.readline()\n",
    "print(title)\n",
    "file.close()\n",
    "# Set Column Names\n",
    "column_labels = 'x, y_mean, y_uncertainty\\r\\n'\n",
    "\n",
    "# Write Header\n",
    "file = open('data_mean_uncert.csv','w')\n",
    "file.write(title)\n",
    "file.write(column_labels)\n",
    "\n",
    "# Task 5 with data size for the range\n",
    "for ii in range(0,data_columns[1]):\n",
    "        file.write('{:5.1f},{:5.4f},{:5.4f}\\r\\n'.format(ii+1,mean_data[ii],uncert_data[ii]))\n",
    "# Close File\n",
    "file.close()\n"
   ]
  }
 ],
 "metadata": {
  "celltoolbar": "Tags",
  "kernelspec": {
   "display_name": "Python 3.9 (py39)",
   "language": "python",
   "name": "py39"
  },
  "language_info": {
   "codemirror_mode": {
    "name": "ipython",
    "version": 3
   },
   "file_extension": ".py",
   "mimetype": "text/x-python",
   "name": "python",
   "nbconvert_exporter": "python",
   "pygments_lexer": "ipython3",
   "version": "3.9.7"
  }
 },
 "nbformat": 4,
 "nbformat_minor": 4
}
